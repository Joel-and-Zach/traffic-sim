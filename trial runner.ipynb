{
 "metadata": {
  "name": "",
  "signature": "sha256:824c8811abaf9154bc667bdd522b167b551ecb14cde2751fdd4445f2fd023f90"
 },
 "nbformat": 3,
 "nbformat_minor": 0,
 "worksheets": [
  {
   "cells": [
    {
     "cell_type": "code",
     "collapsed": false,
     "input": [
      "from trafficsim.car import Car\n",
      "from trafficsim.simulation import Simulation\n",
      "import matplotlib.pyplot as plt\n",
      "import statistics as st"
     ],
     "language": "python",
     "metadata": {},
     "outputs": [],
     "prompt_number": 1
    },
    {
     "cell_type": "code",
     "collapsed": false,
     "input": [
      "%matplotlib inline"
     ],
     "language": "python",
     "metadata": {},
     "outputs": [],
     "prompt_number": 2
    },
    {
     "cell_type": "code",
     "collapsed": false,
     "input": [
      "simulation_one = Simulation()"
     ],
     "language": "python",
     "metadata": {},
     "outputs": [],
     "prompt_number": 3
    },
    {
     "cell_type": "code",
     "collapsed": false,
     "input": [
      "traffic_speed, traffic_position = simulation_one.simulate()\n",
      "\n",
      "def run_trials(number_of_trials, num_cars, len_of_road, time_of_trial, night_mode):\n",
      "    list_of_speeds = []\n",
      "    counter = 0\n",
      "    while number_of_trials > counter:\n",
      "        temp_simulation = Simulation(number_of_cars=num_cars, length=len_of_road, nightmare=night_mode)\n",
      "        temp_list_speed, temp_list_positions = temp_simulation.simulate(time_of_trial)\n",
      "        list_of_speeds.extend(temp_list_speed)\n",
      "        counter += 1\n",
      "    return list_of_speeds\n",
      "# trial_speeds, trial_positions = run_trials(1000, 30, 1000, 300)\n",
      "# print(st.mean(trial_speeds))\n",
      "# print(st.pstdev(trial_speeds))"
     ],
     "language": "python",
     "metadata": {},
     "outputs": [],
     "prompt_number": 4
    },
    {
     "cell_type": "code",
     "collapsed": false,
     "input": [],
     "language": "python",
     "metadata": {},
     "outputs": [],
     "prompt_number": 4
    },
    {
     "cell_type": "code",
     "collapsed": false,
     "input": [],
     "language": "python",
     "metadata": {},
     "outputs": [],
     "prompt_number": 4
    },
    {
     "cell_type": "code",
     "collapsed": false,
     "input": [
      "mean_speed = st.mean(traffic_speed)\n",
      "std_speed = st.pstdev(traffic_speed)\n",
      "print(mean_speed)\n",
      "print(mean_speed+std_speed)"
     ],
     "language": "python",
     "metadata": {},
     "outputs": [
      {
       "output_type": "stream",
       "stream": "stdout",
       "text": [
        "19.074922222222224\n",
        "29.934804940770213\n"
       ]
      }
     ],
     "prompt_number": 5
    },
    {
     "cell_type": "code",
     "collapsed": false,
     "input": [
      "trial_normal_mode_speeds = run_trials(100, 30, 1000, 300, False)\n",
      "print(st.mean(trial_normal_mode_speeds))\n",
      "print(st.pstdev(trial_normal_mode_speeds))\n",
      "\n",
      "speed_limit = round((st.mean(trial_normal_mode_speeds) + (st.pstdev(trial_normal_mode_speeds))))\n",
      "print(speed_limit)"
     ],
     "language": "python",
     "metadata": {},
     "outputs": [
      {
       "output_type": "stream",
       "stream": "stdout",
       "text": [
        "22.391346305555555\n",
        "11.312679968609718"
       ]
      },
      {
       "output_type": "stream",
       "stream": "stdout",
       "text": [
        "\n",
        "34"
       ]
      },
      {
       "output_type": "stream",
       "stream": "stdout",
       "text": [
        "\n"
       ]
      }
     ],
     "prompt_number": 12
    },
    {
     "cell_type": "code",
     "collapsed": false,
     "input": [
      "trial_hard_mode_speeds = run_trials(100, 210, 7000, 300, False)\n",
      "print(st.mean(trial_hard_mode_speeds))\n",
      "print(st.pstdev(trial_hard_mode_speeds))\n",
      "\n",
      "speed_limit = round((st.mean(trial_hard_mode_speeds) + (st.pstdev(trial_hard_mode_speeds))))\n",
      "print(speed_limit)"
     ],
     "language": "python",
     "metadata": {},
     "outputs": [
      {
       "output_type": "stream",
       "stream": "stdout",
       "text": [
        "13.362230646825395\n",
        "12.654045409854165"
       ]
      },
      {
       "output_type": "stream",
       "stream": "stdout",
       "text": [
        "\n",
        "26"
       ]
      },
      {
       "output_type": "stream",
       "stream": "stdout",
       "text": [
        "\n"
       ]
      }
     ],
     "prompt_number": 13
    },
    {
     "cell_type": "code",
     "collapsed": false,
     "input": [
      "trial_nightmare_mode_speeds = run_trials(100, 210, 7000, 300, True)"
     ],
     "language": "python",
     "metadata": {},
     "outputs": [],
     "prompt_number": 7
    },
    {
     "cell_type": "code",
     "collapsed": false,
     "input": [
      "print(st.mean(trial_nightmare_mode_speeds))\n",
      "print(st.pstdev(trial_nightmare_mode_speeds))\n",
      "\n",
      "speed_limit = round((st.mean(trial_nightmare_mode_speeds) + (st.pstdev(trial_nightmare_mode_speeds))))\n",
      "print(speed_limit)\n"
     ],
     "language": "python",
     "metadata": {},
     "outputs": [
      {
       "output_type": "stream",
       "stream": "stdout",
       "text": [
        "12.410306553571429\n",
        "10.598210969499565"
       ]
      },
      {
       "output_type": "stream",
       "stream": "stdout",
       "text": [
        "\n",
        "23"
       ]
      },
      {
       "output_type": "stream",
       "stream": "stdout",
       "text": [
        "\n"
       ]
      }
     ],
     "prompt_number": 15
    },
    {
     "cell_type": "code",
     "collapsed": false,
     "input": [],
     "language": "python",
     "metadata": {},
     "outputs": []
    }
   ],
   "metadata": {}
  }
 ]
}