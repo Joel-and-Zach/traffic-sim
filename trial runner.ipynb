{
 "metadata": {
  "name": "",
  "signature": "sha256:913b37be178bdcdac894db47c501360856221eb48e722a06691de38ef63df8fa"
 },
 "nbformat": 3,
 "nbformat_minor": 0,
 "worksheets": [
  {
   "cells": [
    {
     "cell_type": "code",
     "collapsed": false,
     "input": [
      "from trafficsim.car import Car\n",
      "from trafficsim.simulation import Simulation\n",
      "import matplotlib.pyplot as plt\n",
      "import statistics as st\n",
      "import numpy as np"
     ],
     "language": "python",
     "metadata": {},
     "outputs": [],
     "prompt_number": 27
    },
    {
     "cell_type": "code",
     "collapsed": false,
     "input": [
      "%matplotlib inline"
     ],
     "language": "python",
     "metadata": {},
     "outputs": [],
     "prompt_number": 2
    },
    {
     "cell_type": "code",
     "collapsed": false,
     "input": [
      "simulation_one = Simulation()"
     ],
     "language": "python",
     "metadata": {},
     "outputs": [],
     "prompt_number": 3
    },
    {
     "cell_type": "code",
     "collapsed": false,
     "input": [
      "traffic_speed, traffic_position = simulation_one.simulate()\n",
      "\n",
      "def run_trials(number_of_trials, num_cars, len_of_road, time_of_trial, night_mode):\n",
      "    list_of_speeds = []\n",
      "    counter = 0\n",
      "    while number_of_trials > counter:\n",
      "        temp_simulation = Simulation(number_of_cars=num_cars, length=len_of_road, nightmare=night_mode)\n",
      "        temp_list_speed, temp_list_positions = temp_simulation.simulate(time_of_trial)\n",
      "        list_of_speeds.extend(temp_list_speed)\n",
      "        counter += 1\n",
      "    return list_of_speeds\n",
      "# trial_speeds, trial_positions = run_trials(1000, 30, 1000, 300)\n",
      "# print(st.mean(trial_speeds))\n",
      "# print(st.pstdev(trial_speeds))"
     ],
     "language": "python",
     "metadata": {},
     "outputs": [],
     "prompt_number": 4
    },
    {
     "cell_type": "code",
     "collapsed": false,
     "input": [
      "little_sim = Simulation(number_of_cars=30, length=1000)\n",
      "little_sim_speeds, little_sim_positions = little_sim.simulate()"
     ],
     "language": "python",
     "metadata": {},
     "outputs": [],
     "prompt_number": 56
    },
    {
     "cell_type": "code",
     "collapsed": false,
     "input": [
      "little_sim_speeds = np.array(little_sim_speeds)\n",
      "print(little_sim_speeds.mean())"
     ],
     "language": "python",
     "metadata": {},
     "outputs": [
      {
       "output_type": "stream",
       "stream": "stdout",
       "text": [
        "17.7467569444\n"
       ]
      }
     ],
     "prompt_number": 57
    },
    {
     "cell_type": "code",
     "collapsed": false,
     "input": [
      "mean_speed = st.mean(traffic_speed)\n",
      "std_speed = st.pstdev(traffic_speed)\n",
      "print(mean_speed)\n",
      "print(mean_speed+std_speed)"
     ],
     "language": "python",
     "metadata": {},
     "outputs": [
      {
       "output_type": "stream",
       "stream": "stdout",
       "text": [
        "19.074922222222224\n",
        "29.934804940770213\n"
       ]
      }
     ],
     "prompt_number": 38
    },
    {
     "cell_type": "code",
     "collapsed": false,
     "input": [
      "trial_normal_mode_speeds = run_trials(100, 30, 1000, 300, False)\n",
      "print(st.mean(trial_normal_mode_speeds))\n",
      "print(st.pstdev(trial_normal_mode_speeds))\n",
      "\n",
      "speed_limit = round((st.mean(trial_normal_mode_speeds) + (st.pstdev(trial_normal_mode_speeds))))\n",
      "print(speed_limit)"
     ],
     "language": "python",
     "metadata": {},
     "outputs": [
      {
       "output_type": "stream",
       "stream": "stdout",
       "text": [
        "23.602065208333332\n",
        "11.048898472788943"
       ]
      },
      {
       "output_type": "stream",
       "stream": "stdout",
       "text": [
        "\n",
        "35"
       ]
      },
      {
       "output_type": "stream",
       "stream": "stdout",
       "text": [
        "\n"
       ]
      }
     ],
     "prompt_number": 18
    },
    {
     "cell_type": "code",
     "collapsed": false,
     "input": [
      "trial_hard_mode_speeds = run_trials(100, 210, 7000, 300, False)\n",
      "print(st.mean(trial_hard_mode_speeds))\n",
      "print(st.pstdev(trial_hard_mode_speeds))\n",
      "\n",
      "speed_limit = round((st.mean(trial_hard_mode_speeds) + (st.pstdev(trial_hard_mode_speeds))))\n",
      "print(speed_limit)"
     ],
     "language": "python",
     "metadata": {},
     "outputs": [
      {
       "output_type": "stream",
       "stream": "stdout",
       "text": [
        "13.432227311507935\n",
        "12.579925663567689"
       ]
      },
      {
       "output_type": "stream",
       "stream": "stdout",
       "text": [
        "\n",
        "26"
       ]
      },
      {
       "output_type": "stream",
       "stream": "stdout",
       "text": [
        "\n"
       ]
      }
     ],
     "prompt_number": 19
    },
    {
     "cell_type": "code",
     "collapsed": false,
     "input": [
      "trial_nightmare_mode_speeds = run_trials(100, 210, 7000, 300, True)"
     ],
     "language": "python",
     "metadata": {},
     "outputs": [],
     "prompt_number": 20
    },
    {
     "cell_type": "code",
     "collapsed": false,
     "input": [
      "print(st.mean(trial_nightmare_mode_speeds))\n",
      "print(st.pstdev(trial_nightmare_mode_speeds))\n",
      "\n",
      "speed_limit = round((st.mean(trial_nightmare_mode_speeds) + (st.pstdev(trial_nightmare_mode_speeds))))\n",
      "print(speed_limit)\n"
     ],
     "language": "python",
     "metadata": {},
     "outputs": [
      {
       "output_type": "stream",
       "stream": "stdout",
       "text": [
        "12.52168027579365\n",
        "10.601019077919975"
       ]
      },
      {
       "output_type": "stream",
       "stream": "stdout",
       "text": [
        "\n",
        "23"
       ]
      },
      {
       "output_type": "stream",
       "stream": "stdout",
       "text": [
        "\n"
       ]
      }
     ],
     "prompt_number": 21
    },
    {
     "cell_type": "code",
     "collapsed": false,
     "input": [],
     "language": "python",
     "metadata": {},
     "outputs": []
    }
   ],
   "metadata": {}
  }
 ]
}