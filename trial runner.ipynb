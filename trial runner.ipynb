{
 "metadata": {
  "name": "",
  "signature": "sha256:163db36425f106137ff5ea8cc1213d5a167181896dbb29ac2410bd4387b72460"
 },
 "nbformat": 3,
 "nbformat_minor": 0,
 "worksheets": [
  {
   "cells": [
    {
     "cell_type": "code",
     "collapsed": false,
     "input": [
      "from trafficsim.car import Car\n",
      "from trafficsim.simulation import Simulation\n",
      "import matplotlib.pyplot as plt\n",
      "import statistics as st"
     ],
     "language": "python",
     "metadata": {},
     "outputs": [],
     "prompt_number": 8
    },
    {
     "cell_type": "code",
     "collapsed": false,
     "input": [
      "%matplotlib inline"
     ],
     "language": "python",
     "metadata": {},
     "outputs": [],
     "prompt_number": 9
    },
    {
     "cell_type": "code",
     "collapsed": false,
     "input": [
      "simulation_one = Simulation()"
     ],
     "language": "python",
     "metadata": {},
     "outputs": [],
     "prompt_number": 10
    },
    {
     "cell_type": "code",
     "collapsed": false,
     "input": [
      "traffic_speed, traffic_position = simulation_one.simulate()\n",
      "\n",
      "def run_trials(number_of_trials, num_cars, len_of_road, time_of_trial):\n",
      "    list_of_speeds = []\n",
      "    list_of_positions = []\n",
      "    counter = 0\n",
      "    while number_of_trials > counter:\n",
      "        temp_simulation = Simulation(number_of_cars=num_cars, length=len_of_road)\n",
      "        temp_list_speed, temp_list_positions = temp_simulation.simulate(time_of_trial)\n",
      "        list_of_speeds.extend(temp_list_speed)\n",
      "        list_of_positions.append(temp_list_positions)\n",
      "        counter += 1\n",
      "    return list_of_speeds, list_of_positions\n",
      "# trial_speeds, trial_positions = run_trials(1000, 30, 1000, 300)\n",
      "# print(st.mean(trial_speeds))\n",
      "# print(st.pstdev(trial_speeds))"
     ],
     "language": "python",
     "metadata": {},
     "outputs": [],
     "prompt_number": 11
    },
    {
     "cell_type": "code",
     "collapsed": false,
     "input": [],
     "language": "python",
     "metadata": {},
     "outputs": [],
     "prompt_number": 11
    },
    {
     "cell_type": "code",
     "collapsed": false,
     "input": [],
     "language": "python",
     "metadata": {},
     "outputs": [],
     "prompt_number": 11
    },
    {
     "cell_type": "code",
     "collapsed": false,
     "input": [
      "mean_speed = st.mean(traffic_speed)\n",
      "std_speed = st.pstdev(traffic_speed)\n",
      "print(mean_speed)\n",
      "print(mean_speed+std_speed)"
     ],
     "language": "python",
     "metadata": {},
     "outputs": [
      {
       "output_type": "stream",
       "stream": "stdout",
       "text": [
        "20.19181111111111\n",
        "31.09997105614965\n"
       ]
      }
     ],
     "prompt_number": 12
    },
    {
     "cell_type": "code",
     "collapsed": false,
     "input": [
      "simulation_two = Simulation(number_of_cars=210, length=7000)\n",
      "second_sim_speed, second_sim_positions = simulation_two.simulate(1200)\n",
      "print(st.mean(second_sim_speed))\n",
      "print()"
     ],
     "language": "python",
     "metadata": {},
     "outputs": [
      {
       "output_type": "stream",
       "stream": "stdout",
       "text": [
        "15.54934724310777\n",
        "\n"
       ]
      }
     ],
     "prompt_number": 13
    },
    {
     "cell_type": "code",
     "collapsed": false,
     "input": [
      "trial_hard_mode_speeds, trial_hard_mode_positions = run_trials(1000, 210, 7000, 300)\n",
      "print(st.mean(trial_hard_mode_speeds))\n",
      "print(st.pstdev(trial_hard_mode_speeds))"
     ],
     "language": "python",
     "metadata": {},
     "outputs": []
    },
    {
     "cell_type": "code",
     "collapsed": false,
     "input": [],
     "language": "python",
     "metadata": {},
     "outputs": [],
     "prompt_number": 14
    }
   ],
   "metadata": {}
  }
 ]
}