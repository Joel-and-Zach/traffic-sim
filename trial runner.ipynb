{
 "metadata": {
  "name": "",
  "signature": "sha256:fd07f6fe56e016810909377655b121fa85b3f774ca31bf1a018640a322a441b8"
 },
 "nbformat": 3,
 "nbformat_minor": 0,
 "worksheets": [
  {
   "cells": [
    {
     "cell_type": "code",
     "collapsed": false,
     "input": [
      "from trafficsim.car import Car\n",
      "from trafficsim.simulation import Simulation\n",
      "import seaborn\n",
      "import matplotlib.pyplot as plt\n",
      "import statistics as st\n",
      "import numpy as np"
     ],
     "language": "python",
     "metadata": {},
     "outputs": [],
     "prompt_number": 14
    },
    {
     "cell_type": "code",
     "collapsed": false,
     "input": [
      "%matplotlib inline"
     ],
     "language": "python",
     "metadata": {},
     "outputs": [],
     "prompt_number": 2
    },
    {
     "cell_type": "code",
     "collapsed": false,
     "input": [
      "def run_trials(number_of_trials, num_cars, len_of_road, time_of_trial, night_mode):\n",
      "    list_of_mean_speeds = np.array([])\n",
      "    counter = 0\n",
      "    while number_of_trials > counter:\n",
      "        temp_simulation = Simulation(number_of_cars=num_cars, length=len_of_road, nightmare=night_mode)\n",
      "        temp_list_speed, temp_list_positions = temp_simulation.simulate(time_of_trial)\n",
      "        temp_list_speed = np.array(temp_list_speed)\n",
      "        list_of_mean_speeds = np.hstack((list_of_mean_speeds, temp_list_speed))     \n",
      "        counter += 1\n",
      "    return list_of_mean_speeds"
     ],
     "language": "python",
     "metadata": {},
     "outputs": [],
     "prompt_number": 25
    },
    {
     "cell_type": "code",
     "collapsed": false,
     "input": [
      "little_sim = Simulation(number_of_cars=30, length=1000)\n",
      "little_sim_speeds, little_sim_positions = little_sim.simulate()"
     ],
     "language": "python",
     "metadata": {},
     "outputs": [],
     "prompt_number": 4
    },
    {
     "cell_type": "code",
     "collapsed": false,
     "input": [
      "little_sim_speeds = np.array(little_sim_speeds)\n",
      "print(little_sim_speeds.mean())"
     ],
     "language": "python",
     "metadata": {},
     "outputs": [
      {
       "output_type": "stream",
       "stream": "stdout",
       "text": [
        "22.6806805556\n"
       ]
      }
     ],
     "prompt_number": 5
    },
    {
     "cell_type": "heading",
     "level": 1,
     "metadata": {},
     "source": [
      "Normal mode simulations"
     ]
    },
    {
     "cell_type": "code",
     "collapsed": false,
     "input": [
      "normal_mode_speeds, normal_mode_mean_speeds = run_trials(100, 30, 1000, 300, False)\n",
      "print(st.mean(normal_mode_speeds))\n",
      "print(st.pstdev(normal_mode_speeds))\n",
      "speed_limit = round((st.mean(normal_mode_speeds) + (st.pstdev(normal_mode_speeds))))\n",
      "print(speed_limit)"
     ],
     "language": "python",
     "metadata": {},
     "outputs": [
      {
       "output_type": "stream",
       "stream": "stdout",
       "text": [
        "22.871887777777776\n",
        "11.083437369319519"
       ]
      },
      {
       "output_type": "stream",
       "stream": "stdout",
       "text": [
        "\n",
        "34"
       ]
      },
      {
       "output_type": "stream",
       "stream": "stdout",
       "text": [
        "\n"
       ]
      }
     ],
     "prompt_number": 11
    },
    {
     "cell_type": "heading",
     "level": 1,
     "metadata": {},
     "source": [
      "Hard mode simulations"
     ]
    },
    {
     "cell_type": "code",
     "collapsed": false,
     "input": [
      "hard_mode_speeds, hard_mode_mean_speeds = run_trials(100, 210, 7000, 180, False)\n",
      "print(st.mean(hard_mode_speeds))\n",
      "print(st.pstdev(hard_mode_speeds))\n",
      "\n",
      "speed_limit = round((st.mean(hard_mode_speeds) + (st.pstdev(hard_mode_speeds))))\n",
      "print(speed_limit)"
     ],
     "language": "python",
     "metadata": {},
     "outputs": [
      {
       "output_type": "stream",
       "stream": "stdout",
       "text": [
        "14.474587134920634\n",
        "12.573478401912176"
       ]
      },
      {
       "output_type": "stream",
       "stream": "stdout",
       "text": [
        "\n",
        "27"
       ]
      },
      {
       "output_type": "stream",
       "stream": "stdout",
       "text": [
        "\n"
       ]
      }
     ],
     "prompt_number": 13
    },
    {
     "cell_type": "heading",
     "level": 1,
     "metadata": {},
     "source": [
      "Nightmare mode simulations"
     ]
    },
    {
     "cell_type": "code",
     "collapsed": false,
     "input": [
      "nightmare_mode_mean_speeds = run_trials(100, 210, 7000, 180, True)\n",
      "nightmare_mode_speeds = np.array(nightmare_mode_speeds)\n",
      "nightmare_mode_mean_speeds\n",
      "\n",
      "\n",
      "print(nightmare_mode_speeds.mean())\n",
      "print(nightmare_mode_speeds.std())\n",
      "\n",
      "\n",
      "speed_limit = round(nightmare_mode_speeds.mean() + nightmare_mode_speeds.std())\n",
      "print(speed_limit)\n"
     ],
     "language": "python",
     "metadata": {},
     "outputs": [
      {
       "output_type": "stream",
       "stream": "stdout",
       "text": [
        "12.758386004\n",
        "10.5032800289\n",
        "23.0\n"
       ]
      }
     ],
     "prompt_number": 26
    },
    {
     "cell_type": "code",
     "collapsed": false,
     "input": [
      "little_array = np.array([1, 2])\n",
      "littler_array = np.array([3])\n",
      "little_array = np.hstack((little_array, littler_array))\n",
      "print(little_array)"
     ],
     "language": "python",
     "metadata": {},
     "outputs": [
      {
       "output_type": "stream",
       "stream": "stdout",
       "text": [
        "[1 2 3]\n"
       ]
      }
     ],
     "prompt_number": 22
    },
    {
     "cell_type": "code",
     "collapsed": false,
     "input": [],
     "language": "python",
     "metadata": {},
     "outputs": []
    }
   ],
   "metadata": {}
  }
 ]
}